{
 "cells": [
  {
   "cell_type": "code",
   "execution_count": 16,
   "metadata": {},
   "outputs": [
    {
     "name": "stdout",
     "output_type": "stream",
     "text": [
      "WARNING:tensorflow:From c:\\Users\\tay\\myenv\\Lib\\site-packages\\keras\\src\\losses.py:2976: The name tf.losses.sparse_softmax_cross_entropy is deprecated. Please use tf.compat.v1.losses.sparse_softmax_cross_entropy instead.\n",
      "\n"
     ]
    }
   ],
   "source": [
    "from sklearn.datasets import fetch_california_housing\n",
    "from sklearn.model_selection import train_test_split\n",
    "from sklearn.preprocessing import StandardScaler\n",
    "import tensorflow as tf\n",
    "from tensorflow.keras.models import Sequential\n",
    "from tensorflow.keras.layers import Dense\n",
    "import numpy as np\n"
   ]
  },
  {
   "cell_type": "code",
   "execution_count": 17,
   "metadata": {},
   "outputs": [],
   "source": [
    "housing = fetch_california_housing()\n",
    "X = housing.data\n",
    "y = housing.target"
   ]
  },
  {
   "cell_type": "code",
   "execution_count": 18,
   "metadata": {},
   "outputs": [],
   "source": [
    "X_train, X_test, y_train, y_test = train_test_split(X, y, test_size=0.2)"
   ]
  },
  {
   "cell_type": "code",
   "execution_count": 19,
   "metadata": {},
   "outputs": [],
   "source": [
    "scaler = StandardScaler()\n",
    "X_train_scaled = scaler.fit_transform(X_train)\n",
    "X_test_scaled = scaler.transform(X_test)"
   ]
  },
  {
   "cell_type": "code",
   "execution_count": 20,
   "metadata": {},
   "outputs": [
    {
     "name": "stdout",
     "output_type": "stream",
     "text": [
      "WARNING:tensorflow:From c:\\Users\\tay\\myenv\\Lib\\site-packages\\keras\\src\\backend.py:873: The name tf.get_default_graph is deprecated. Please use tf.compat.v1.get_default_graph instead.\n",
      "\n"
     ]
    }
   ],
   "source": [
    "model = Sequential()\n",
    "model.add(Dense(64, activation='relu', input_shape=(X_train.shape[1],)))\n",
    "model.add(Dense(32, activation='relu'))\n",
    "model.add(Dense(1, activation='linear'))"
   ]
  },
  {
   "cell_type": "code",
   "execution_count": 21,
   "metadata": {},
   "outputs": [
    {
     "name": "stdout",
     "output_type": "stream",
     "text": [
      "WARNING:tensorflow:From c:\\Users\\tay\\myenv\\Lib\\site-packages\\keras\\src\\optimizers\\__init__.py:309: The name tf.train.Optimizer is deprecated. Please use tf.compat.v1.train.Optimizer instead.\n",
      "\n"
     ]
    }
   ],
   "source": [
    "model.compile(optimizer='adam', loss='mse', metrics=['mae'])"
   ]
  },
  {
   "cell_type": "code",
   "execution_count": 22,
   "metadata": {},
   "outputs": [
    {
     "name": "stdout",
     "output_type": "stream",
     "text": [
      "Epoch 1/100\n",
      "WARNING:tensorflow:From c:\\Users\\tay\\myenv\\Lib\\site-packages\\keras\\src\\utils\\tf_utils.py:492: The name tf.ragged.RaggedTensorValue is deprecated. Please use tf.compat.v1.ragged.RaggedTensorValue instead.\n",
      "\n",
      "WARNING:tensorflow:From c:\\Users\\tay\\myenv\\Lib\\site-packages\\keras\\src\\engine\\base_layer_utils.py:384: The name tf.executing_eagerly_outside_functions is deprecated. Please use tf.compat.v1.executing_eagerly_outside_functions instead.\n",
      "\n",
      "413/413 [==============================] - 4s 3ms/step - loss: 0.9824 - mae: 0.6750 - val_loss: 0.5192 - val_mae: 0.5090\n",
      "Epoch 2/100\n",
      "413/413 [==============================] - 1s 3ms/step - loss: 0.4210 - mae: 0.4584 - val_loss: 0.4240 - val_mae: 0.4591\n",
      "Epoch 3/100\n",
      "413/413 [==============================] - 1s 3ms/step - loss: 0.3788 - mae: 0.4378 - val_loss: 0.3982 - val_mae: 0.4491\n",
      "Epoch 4/100\n",
      "413/413 [==============================] - 1s 3ms/step - loss: 0.3634 - mae: 0.4274 - val_loss: 0.3941 - val_mae: 0.4439\n",
      "Epoch 5/100\n",
      "413/413 [==============================] - 1s 3ms/step - loss: 0.3608 - mae: 0.4248 - val_loss: 0.3788 - val_mae: 0.4414\n",
      "Epoch 6/100\n",
      "413/413 [==============================] - 1s 3ms/step - loss: 0.3468 - mae: 0.4145 - val_loss: 0.3606 - val_mae: 0.4333\n",
      "Epoch 7/100\n",
      "413/413 [==============================] - 1s 3ms/step - loss: 0.3456 - mae: 0.4107 - val_loss: 0.3586 - val_mae: 0.4239\n",
      "Epoch 8/100\n",
      "413/413 [==============================] - 1s 3ms/step - loss: 0.3367 - mae: 0.4014 - val_loss: 0.3497 - val_mae: 0.4259\n",
      "Epoch 9/100\n",
      "413/413 [==============================] - 1s 3ms/step - loss: 0.3247 - mae: 0.3986 - val_loss: 0.3432 - val_mae: 0.4229\n",
      "Epoch 10/100\n",
      "413/413 [==============================] - 1s 3ms/step - loss: 0.3164 - mae: 0.3928 - val_loss: 0.3283 - val_mae: 0.4055\n",
      "Epoch 11/100\n",
      "413/413 [==============================] - 1s 3ms/step - loss: 0.3151 - mae: 0.3871 - val_loss: 0.3264 - val_mae: 0.4019\n",
      "Epoch 12/100\n",
      "413/413 [==============================] - 1s 3ms/step - loss: 0.3102 - mae: 0.3858 - val_loss: 0.3337 - val_mae: 0.4082\n",
      "Epoch 13/100\n",
      "413/413 [==============================] - 1s 3ms/step - loss: 0.3121 - mae: 0.3844 - val_loss: 0.3215 - val_mae: 0.3973\n",
      "Epoch 14/100\n",
      "413/413 [==============================] - 1s 3ms/step - loss: 0.3009 - mae: 0.3787 - val_loss: 0.3157 - val_mae: 0.3974\n",
      "Epoch 15/100\n",
      "413/413 [==============================] - 1s 3ms/step - loss: 0.2985 - mae: 0.3763 - val_loss: 0.3146 - val_mae: 0.3845\n",
      "Epoch 16/100\n",
      "413/413 [==============================] - 1s 3ms/step - loss: 0.3007 - mae: 0.3766 - val_loss: 0.3200 - val_mae: 0.3932\n",
      "Epoch 17/100\n",
      "413/413 [==============================] - 1s 3ms/step - loss: 0.2992 - mae: 0.3753 - val_loss: 0.3076 - val_mae: 0.3891\n",
      "Epoch 18/100\n",
      "413/413 [==============================] - 1s 3ms/step - loss: 0.2907 - mae: 0.3702 - val_loss: 0.3057 - val_mae: 0.3827\n",
      "Epoch 19/100\n",
      "413/413 [==============================] - 1s 3ms/step - loss: 0.2878 - mae: 0.3696 - val_loss: 0.3038 - val_mae: 0.3843\n",
      "Epoch 20/100\n",
      "413/413 [==============================] - 1s 3ms/step - loss: 0.2855 - mae: 0.3671 - val_loss: 0.3052 - val_mae: 0.3908\n",
      "Epoch 21/100\n",
      "413/413 [==============================] - 1s 3ms/step - loss: 0.2933 - mae: 0.3699 - val_loss: 0.3061 - val_mae: 0.3850\n",
      "Epoch 22/100\n",
      "413/413 [==============================] - 1s 3ms/step - loss: 0.2822 - mae: 0.3654 - val_loss: 0.2965 - val_mae: 0.3796\n",
      "Epoch 23/100\n",
      "413/413 [==============================] - 1s 3ms/step - loss: 0.2824 - mae: 0.3667 - val_loss: 0.2973 - val_mae: 0.3752\n",
      "Epoch 24/100\n",
      "413/413 [==============================] - 1s 3ms/step - loss: 0.2843 - mae: 0.3663 - val_loss: 0.3045 - val_mae: 0.3766\n",
      "Epoch 25/100\n",
      "413/413 [==============================] - 1s 2ms/step - loss: 0.2818 - mae: 0.3648 - val_loss: 0.3038 - val_mae: 0.3776\n",
      "Epoch 26/100\n",
      "413/413 [==============================] - 1s 2ms/step - loss: 0.2788 - mae: 0.3627 - val_loss: 0.3060 - val_mae: 0.3798\n",
      "Epoch 27/100\n",
      "413/413 [==============================] - 1s 2ms/step - loss: 0.2871 - mae: 0.3623 - val_loss: 0.2963 - val_mae: 0.3723\n",
      "Epoch 28/100\n",
      "413/413 [==============================] - 1s 3ms/step - loss: 0.2761 - mae: 0.3602 - val_loss: 0.2996 - val_mae: 0.3733\n",
      "Epoch 29/100\n",
      "413/413 [==============================] - 1s 3ms/step - loss: 0.2722 - mae: 0.3588 - val_loss: 0.2900 - val_mae: 0.3742\n",
      "Epoch 30/100\n",
      "413/413 [==============================] - 1s 3ms/step - loss: 0.2732 - mae: 0.3596 - val_loss: 0.2913 - val_mae: 0.3690\n",
      "Epoch 31/100\n",
      "413/413 [==============================] - 1s 3ms/step - loss: 0.2723 - mae: 0.3573 - val_loss: 0.3059 - val_mae: 0.3850\n",
      "Epoch 32/100\n",
      "413/413 [==============================] - 1s 3ms/step - loss: 0.2712 - mae: 0.3587 - val_loss: 0.2870 - val_mae: 0.3748\n",
      "Epoch 33/100\n",
      "413/413 [==============================] - 1s 3ms/step - loss: 0.2702 - mae: 0.3574 - val_loss: 0.2954 - val_mae: 0.3752\n",
      "Epoch 34/100\n",
      "413/413 [==============================] - 1s 3ms/step - loss: 0.2686 - mae: 0.3563 - val_loss: 0.2956 - val_mae: 0.3741\n",
      "Epoch 35/100\n",
      "413/413 [==============================] - 1s 3ms/step - loss: 0.2783 - mae: 0.3583 - val_loss: 0.3004 - val_mae: 0.3742\n",
      "Epoch 36/100\n",
      "413/413 [==============================] - 1s 3ms/step - loss: 0.2676 - mae: 0.3552 - val_loss: 0.2863 - val_mae: 0.3704\n",
      "Epoch 37/100\n",
      "413/413 [==============================] - 1s 3ms/step - loss: 0.2663 - mae: 0.3546 - val_loss: 0.2922 - val_mae: 0.3661\n",
      "Epoch 38/100\n",
      "413/413 [==============================] - 1s 3ms/step - loss: 0.2689 - mae: 0.3533 - val_loss: 0.2939 - val_mae: 0.3746\n",
      "Epoch 39/100\n",
      "413/413 [==============================] - 1s 3ms/step - loss: 0.2654 - mae: 0.3536 - val_loss: 0.2849 - val_mae: 0.3678\n",
      "Epoch 40/100\n",
      "413/413 [==============================] - 1s 3ms/step - loss: 0.2606 - mae: 0.3504 - val_loss: 0.2862 - val_mae: 0.3691\n",
      "Epoch 41/100\n",
      "413/413 [==============================] - 1s 3ms/step - loss: 0.2640 - mae: 0.3523 - val_loss: 0.2871 - val_mae: 0.3759\n",
      "Epoch 42/100\n",
      "413/413 [==============================] - 1s 3ms/step - loss: 0.2598 - mae: 0.3492 - val_loss: 0.2910 - val_mae: 0.3769\n",
      "Epoch 43/100\n",
      "413/413 [==============================] - 1s 3ms/step - loss: 0.2610 - mae: 0.3509 - val_loss: 0.2854 - val_mae: 0.3741\n",
      "Epoch 44/100\n",
      "413/413 [==============================] - 1s 3ms/step - loss: 0.2612 - mae: 0.3502 - val_loss: 0.2927 - val_mae: 0.3755\n",
      "Epoch 45/100\n",
      "413/413 [==============================] - 1s 3ms/step - loss: 0.2595 - mae: 0.3496 - val_loss: 0.2961 - val_mae: 0.3775\n",
      "Epoch 46/100\n",
      "413/413 [==============================] - 1s 3ms/step - loss: 0.2597 - mae: 0.3493 - val_loss: 0.2846 - val_mae: 0.3636\n",
      "Epoch 47/100\n",
      "413/413 [==============================] - 1s 3ms/step - loss: 0.2625 - mae: 0.3485 - val_loss: 0.2871 - val_mae: 0.3722\n",
      "Epoch 48/100\n",
      "413/413 [==============================] - 1s 3ms/step - loss: 0.2599 - mae: 0.3492 - val_loss: 0.2859 - val_mae: 0.3763\n",
      "Epoch 49/100\n",
      "413/413 [==============================] - 1s 3ms/step - loss: 0.2569 - mae: 0.3484 - val_loss: 0.2821 - val_mae: 0.3671\n",
      "Epoch 50/100\n",
      "413/413 [==============================] - 1s 3ms/step - loss: 0.2552 - mae: 0.3471 - val_loss: 0.2850 - val_mae: 0.3632\n",
      "Epoch 51/100\n",
      "413/413 [==============================] - 1s 3ms/step - loss: 0.2529 - mae: 0.3454 - val_loss: 0.2825 - val_mae: 0.3617\n",
      "Epoch 52/100\n",
      "413/413 [==============================] - 1s 3ms/step - loss: 0.2517 - mae: 0.3457 - val_loss: 0.2817 - val_mae: 0.3702\n",
      "Epoch 53/100\n",
      "413/413 [==============================] - 1s 3ms/step - loss: 0.2508 - mae: 0.3444 - val_loss: 0.2853 - val_mae: 0.3669\n",
      "Epoch 54/100\n",
      "413/413 [==============================] - 1s 3ms/step - loss: 0.2525 - mae: 0.3451 - val_loss: 0.2852 - val_mae: 0.3684\n",
      "Epoch 55/100\n",
      "413/413 [==============================] - 1s 3ms/step - loss: 0.2514 - mae: 0.3438 - val_loss: 0.2926 - val_mae: 0.3869\n",
      "Epoch 56/100\n",
      "413/413 [==============================] - 1s 3ms/step - loss: 0.2507 - mae: 0.3440 - val_loss: 0.2818 - val_mae: 0.3605\n",
      "Epoch 57/100\n",
      "413/413 [==============================] - 1s 3ms/step - loss: 0.2482 - mae: 0.3419 - val_loss: 0.2882 - val_mae: 0.3723\n",
      "Epoch 58/100\n",
      "413/413 [==============================] - 1s 3ms/step - loss: 0.2551 - mae: 0.3420 - val_loss: 0.2839 - val_mae: 0.3603\n",
      "Epoch 59/100\n",
      "413/413 [==============================] - 1s 3ms/step - loss: 0.2507 - mae: 0.3423 - val_loss: 0.2804 - val_mae: 0.3571\n",
      "Epoch 60/100\n",
      "413/413 [==============================] - 1s 3ms/step - loss: 0.2509 - mae: 0.3454 - val_loss: 0.2831 - val_mae: 0.3689\n",
      "Epoch 61/100\n",
      "413/413 [==============================] - 1s 3ms/step - loss: 0.2466 - mae: 0.3403 - val_loss: 0.2791 - val_mae: 0.3605\n",
      "Epoch 62/100\n",
      "413/413 [==============================] - 1s 3ms/step - loss: 0.2486 - mae: 0.3421 - val_loss: 0.2773 - val_mae: 0.3613\n",
      "Epoch 63/100\n",
      "413/413 [==============================] - 1s 3ms/step - loss: 0.2436 - mae: 0.3394 - val_loss: 0.2822 - val_mae: 0.3676\n",
      "Epoch 64/100\n",
      "413/413 [==============================] - 1s 3ms/step - loss: 0.2460 - mae: 0.3413 - val_loss: 0.2833 - val_mae: 0.3586\n",
      "Epoch 65/100\n",
      "413/413 [==============================] - 1s 3ms/step - loss: 0.2446 - mae: 0.3383 - val_loss: 0.2762 - val_mae: 0.3659\n",
      "Epoch 66/100\n",
      "413/413 [==============================] - 1s 3ms/step - loss: 0.2419 - mae: 0.3365 - val_loss: 0.2886 - val_mae: 0.3689\n",
      "Epoch 67/100\n",
      "413/413 [==============================] - 1s 3ms/step - loss: 0.2413 - mae: 0.3366 - val_loss: 0.2762 - val_mae: 0.3563\n",
      "Epoch 68/100\n",
      "413/413 [==============================] - 1s 3ms/step - loss: 0.2402 - mae: 0.3368 - val_loss: 0.2804 - val_mae: 0.3599\n",
      "Epoch 69/100\n",
      "413/413 [==============================] - 1s 3ms/step - loss: 0.2420 - mae: 0.3367 - val_loss: 0.2722 - val_mae: 0.3595\n",
      "Epoch 70/100\n",
      "413/413 [==============================] - 1s 3ms/step - loss: 0.2400 - mae: 0.3357 - val_loss: 0.2784 - val_mae: 0.3616\n",
      "Epoch 71/100\n",
      "413/413 [==============================] - 1s 3ms/step - loss: 0.2399 - mae: 0.3359 - val_loss: 0.2771 - val_mae: 0.3633\n",
      "Epoch 72/100\n",
      "413/413 [==============================] - 1s 3ms/step - loss: 0.2384 - mae: 0.3351 - val_loss: 0.2737 - val_mae: 0.3570\n",
      "Epoch 73/100\n",
      "413/413 [==============================] - 1s 3ms/step - loss: 0.2386 - mae: 0.3351 - val_loss: 0.2806 - val_mae: 0.3677\n",
      "Epoch 74/100\n",
      "413/413 [==============================] - 1s 3ms/step - loss: 0.2399 - mae: 0.3361 - val_loss: 0.2789 - val_mae: 0.3571\n",
      "Epoch 75/100\n",
      "413/413 [==============================] - 1s 3ms/step - loss: 0.2412 - mae: 0.3347 - val_loss: 0.2994 - val_mae: 0.3666\n",
      "Epoch 76/100\n",
      "413/413 [==============================] - 1s 3ms/step - loss: 0.2371 - mae: 0.3345 - val_loss: 0.2720 - val_mae: 0.3524\n",
      "Epoch 77/100\n",
      "413/413 [==============================] - 1s 3ms/step - loss: 0.2372 - mae: 0.3341 - val_loss: 0.2779 - val_mae: 0.3549\n",
      "Epoch 78/100\n",
      "413/413 [==============================] - 1s 3ms/step - loss: 0.2368 - mae: 0.3334 - val_loss: 0.2764 - val_mae: 0.3623\n",
      "Epoch 79/100\n",
      "413/413 [==============================] - 1s 3ms/step - loss: 0.2344 - mae: 0.3321 - val_loss: 0.2816 - val_mae: 0.3748\n",
      "Epoch 80/100\n",
      "413/413 [==============================] - 1s 3ms/step - loss: 0.2335 - mae: 0.3317 - val_loss: 0.2731 - val_mae: 0.3572\n",
      "Epoch 81/100\n",
      "413/413 [==============================] - 1s 3ms/step - loss: 0.2358 - mae: 0.3320 - val_loss: 0.2790 - val_mae: 0.3708\n",
      "Epoch 82/100\n",
      "413/413 [==============================] - 1s 3ms/step - loss: 0.2363 - mae: 0.3335 - val_loss: 0.2809 - val_mae: 0.3547\n",
      "Epoch 83/100\n",
      "413/413 [==============================] - 1s 3ms/step - loss: 0.2320 - mae: 0.3301 - val_loss: 0.2733 - val_mae: 0.3587\n",
      "Epoch 84/100\n",
      "413/413 [==============================] - 1s 3ms/step - loss: 0.2338 - mae: 0.3312 - val_loss: 0.2822 - val_mae: 0.3685\n",
      "Epoch 85/100\n",
      "413/413 [==============================] - 1s 3ms/step - loss: 0.2336 - mae: 0.3316 - val_loss: 0.2822 - val_mae: 0.3589\n",
      "Epoch 86/100\n",
      "413/413 [==============================] - 1s 3ms/step - loss: 0.2319 - mae: 0.3292 - val_loss: 0.2754 - val_mae: 0.3663\n",
      "Epoch 87/100\n",
      "413/413 [==============================] - 1s 3ms/step - loss: 0.2325 - mae: 0.3308 - val_loss: 0.2760 - val_mae: 0.3510\n",
      "Epoch 88/100\n",
      "413/413 [==============================] - 1s 3ms/step - loss: 0.2342 - mae: 0.3311 - val_loss: 0.2944 - val_mae: 0.3629\n",
      "Epoch 89/100\n",
      "413/413 [==============================] - 1s 3ms/step - loss: 0.2318 - mae: 0.3306 - val_loss: 0.2771 - val_mae: 0.3551\n",
      "Epoch 90/100\n",
      "413/413 [==============================] - 1s 3ms/step - loss: 0.2299 - mae: 0.3310 - val_loss: 0.2725 - val_mae: 0.3542\n",
      "Epoch 91/100\n",
      "413/413 [==============================] - 1s 3ms/step - loss: 0.2301 - mae: 0.3294 - val_loss: 0.2950 - val_mae: 0.3855\n",
      "Epoch 92/100\n",
      "413/413 [==============================] - 1s 3ms/step - loss: 0.2313 - mae: 0.3306 - val_loss: 0.2717 - val_mae: 0.3553\n",
      "Epoch 93/100\n",
      "413/413 [==============================] - 1s 3ms/step - loss: 0.2283 - mae: 0.3274 - val_loss: 0.2730 - val_mae: 0.3565\n",
      "Epoch 94/100\n",
      "413/413 [==============================] - 1s 3ms/step - loss: 0.2299 - mae: 0.3301 - val_loss: 0.2768 - val_mae: 0.3551\n",
      "Epoch 95/100\n",
      "413/413 [==============================] - 1s 3ms/step - loss: 0.2301 - mae: 0.3296 - val_loss: 0.2718 - val_mae: 0.3542\n",
      "Epoch 96/100\n",
      "413/413 [==============================] - 1s 3ms/step - loss: 0.2272 - mae: 0.3280 - val_loss: 0.2690 - val_mae: 0.3563\n",
      "Epoch 97/100\n",
      "413/413 [==============================] - 1s 3ms/step - loss: 0.2279 - mae: 0.3295 - val_loss: 0.2769 - val_mae: 0.3554\n",
      "Epoch 98/100\n",
      "413/413 [==============================] - 1s 3ms/step - loss: 0.2280 - mae: 0.3269 - val_loss: 0.2732 - val_mae: 0.3530\n",
      "Epoch 99/100\n",
      "413/413 [==============================] - 1s 3ms/step - loss: 0.2277 - mae: 0.3270 - val_loss: 0.2736 - val_mae: 0.3596\n",
      "Epoch 100/100\n",
      "413/413 [==============================] - 1s 3ms/step - loss: 0.2256 - mae: 0.3269 - val_loss: 0.2730 - val_mae: 0.3588\n"
     ]
    }
   ],
   "source": [
    "epochs = 100\n",
    "batch_size = 32\n",
    "history = model.fit(X_train_scaled, y_train, epochs=epochs, batch_size=batch_size, validation_split=0.2)"
   ]
  },
  {
   "cell_type": "code",
   "execution_count": 25,
   "metadata": {},
   "outputs": [
    {
     "name": "stdout",
     "output_type": "stream",
     "text": [
      "129/129 [==============================] - 0s 2ms/step - loss: 0.2562 - mae: 0.3471\n",
      "Mean Squared Error (MSE) on Test Data: 0.26\n",
      "Mean Absolute Error (MAE) on Test Data: 0.35\n",
      "1/1 [==============================] - 0s 172ms/step\n",
      "Predicted Price for sample 0: $1.35 | Actual Price: $1.62\n",
      "Predicted Price for sample 1: $2.91 | Actual Price: $4.67\n",
      "Predicted Price for sample 2: $3.15 | Actual Price: $2.73\n"
     ]
    }
   ],
   "source": [
    "mse, mae = model.evaluate(X_test_scaled, y_test)\n",
    "print(f'Mean Squared Error (MSE) on Test Data: {mse:.2f}')\n",
    "print(f'Mean Absolute Error (MAE) on Test Data: {mae:.2f}')\n",
    "i\n",
    "sample_indices = [0, 1, 2]\n",
    "sample_data = X_test_scaled[sample_indices]\n",
    "predictions = model.predict(sample_data)\n",
    "\n",
    "for i, index in enumerate(sample_indices):\n",
    "    print(f'Predicted Price for sample {index}: ${predictions[i][0]:,.2f} | Actual Price: ${y_test[index]:,.2f}')\n"
   ]
  }
 ],
 "metadata": {
  "kernelspec": {
   "display_name": "myenv",
   "language": "python",
   "name": "python3"
  },
  "language_info": {
   "codemirror_mode": {
    "name": "ipython",
    "version": 3
   },
   "file_extension": ".py",
   "mimetype": "text/x-python",
   "name": "python",
   "nbconvert_exporter": "python",
   "pygments_lexer": "ipython3",
   "version": "3.11.5"
  }
 },
 "nbformat": 4,
 "nbformat_minor": 2
}
