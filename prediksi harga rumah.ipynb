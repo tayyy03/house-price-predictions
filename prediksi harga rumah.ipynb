{
 "cells": [
  {
   "cell_type": "code",
   "execution_count": 1,
   "metadata": {},
   "outputs": [
    {
     "name": "stdout",
     "output_type": "stream",
     "text": [
      "WARNING:tensorflow:From c:\\Users\\tay\\myenv\\Lib\\site-packages\\keras\\src\\losses.py:2976: The name tf.losses.sparse_softmax_cross_entropy is deprecated. Please use tf.compat.v1.losses.sparse_softmax_cross_entropy instead.\n",
      "\n"
     ]
    }
   ],
   "source": [
    "from sklearn.datasets import fetch_california_housing\n",
    "from sklearn.model_selection import train_test_split\n",
    "from sklearn.preprocessing import StandardScaler\n",
    "import tensorflow as tf\n",
    "from tensorflow.keras.models import Sequential\n",
    "from tensorflow.keras.layers import Dense\n",
    "import numpy as np\n"
   ]
  },
  {
   "cell_type": "code",
   "execution_count": 2,
   "metadata": {},
   "outputs": [],
   "source": [
    "housing = fetch_california_housing()\n",
    "X = housing.data\n",
    "y = housing.target"
   ]
  },
  {
   "cell_type": "code",
   "execution_count": 3,
   "metadata": {},
   "outputs": [],
   "source": [
    "X_train, X_test, y_train, y_test = train_test_split(X, y, test_size=0.2)"
   ]
  },
  {
   "cell_type": "code",
   "execution_count": 4,
   "metadata": {},
   "outputs": [],
   "source": [
    "scaler = StandardScaler()\n",
    "X_train_scaled = scaler.fit_transform(X_train)\n",
    "X_test_scaled = scaler.transform(X_test)"
   ]
  },
  {
   "cell_type": "code",
   "execution_count": 5,
   "metadata": {},
   "outputs": [
    {
     "name": "stdout",
     "output_type": "stream",
     "text": [
      "WARNING:tensorflow:From c:\\Users\\tay\\myenv\\Lib\\site-packages\\keras\\src\\backend.py:873: The name tf.get_default_graph is deprecated. Please use tf.compat.v1.get_default_graph instead.\n",
      "\n"
     ]
    }
   ],
   "source": [
    "model = Sequential()\n",
    "model.add(Dense(64, activation='relu', input_shape=(X_train.shape[1],)))\n",
    "model.add(Dense(32, activation='relu'))\n",
    "model.add(Dense(1, activation='linear'))"
   ]
  },
  {
   "cell_type": "code",
   "execution_count": 6,
   "metadata": {},
   "outputs": [
    {
     "name": "stdout",
     "output_type": "stream",
     "text": [
      "WARNING:tensorflow:From c:\\Users\\tay\\myenv\\Lib\\site-packages\\keras\\src\\optimizers\\__init__.py:309: The name tf.train.Optimizer is deprecated. Please use tf.compat.v1.train.Optimizer instead.\n",
      "\n"
     ]
    }
   ],
   "source": [
    "model.compile(optimizer='adam', loss='mse', metrics=['mae'])"
   ]
  },
  {
   "cell_type": "code",
   "execution_count": 7,
   "metadata": {},
   "outputs": [
    {
     "name": "stdout",
     "output_type": "stream",
     "text": [
      "Epoch 1/100\n",
      "WARNING:tensorflow:From c:\\Users\\tay\\myenv\\Lib\\site-packages\\keras\\src\\utils\\tf_utils.py:492: The name tf.ragged.RaggedTensorValue is deprecated. Please use tf.compat.v1.ragged.RaggedTensorValue instead.\n",
      "\n",
      "WARNING:tensorflow:From c:\\Users\\tay\\myenv\\Lib\\site-packages\\keras\\src\\engine\\base_layer_utils.py:384: The name tf.executing_eagerly_outside_functions is deprecated. Please use tf.compat.v1.executing_eagerly_outside_functions instead.\n",
      "\n",
      "413/413 [==============================] - 2s 2ms/step - loss: 0.9881 - mae: 0.6374 - val_loss: 0.4342 - val_mae: 0.4629\n",
      "Epoch 2/100\n",
      "413/413 [==============================] - 1s 2ms/step - loss: 0.4122 - mae: 0.4558 - val_loss: 0.3739 - val_mae: 0.4293\n",
      "Epoch 3/100\n",
      "413/413 [==============================] - 1s 2ms/step - loss: 0.3779 - mae: 0.4383 - val_loss: 0.3733 - val_mae: 0.4226\n",
      "Epoch 4/100\n",
      "413/413 [==============================] - 1s 2ms/step - loss: 0.3564 - mae: 0.4255 - val_loss: 0.3501 - val_mae: 0.4173\n",
      "Epoch 5/100\n",
      "413/413 [==============================] - 1s 2ms/step - loss: 0.3645 - mae: 0.4206 - val_loss: 0.3404 - val_mae: 0.4047\n",
      "Epoch 6/100\n",
      "413/413 [==============================] - 1s 2ms/step - loss: 0.3412 - mae: 0.4114 - val_loss: 0.3326 - val_mae: 0.4068\n",
      "Epoch 7/100\n",
      "413/413 [==============================] - 1s 2ms/step - loss: 0.3313 - mae: 0.4043 - val_loss: 0.3371 - val_mae: 0.3986\n",
      "Epoch 8/100\n",
      "413/413 [==============================] - 1s 2ms/step - loss: 0.3308 - mae: 0.4005 - val_loss: 0.3167 - val_mae: 0.3893\n",
      "Epoch 9/100\n",
      "413/413 [==============================] - 1s 2ms/step - loss: 0.3179 - mae: 0.3942 - val_loss: 0.3162 - val_mae: 0.3907\n",
      "Epoch 10/100\n",
      "413/413 [==============================] - 1s 2ms/step - loss: 0.3097 - mae: 0.3885 - val_loss: 0.3067 - val_mae: 0.3778\n",
      "Epoch 11/100\n",
      "413/413 [==============================] - 1s 2ms/step - loss: 0.3141 - mae: 0.3885 - val_loss: 0.3072 - val_mae: 0.3818\n",
      "Epoch 12/100\n",
      "413/413 [==============================] - 1s 2ms/step - loss: 0.3036 - mae: 0.3832 - val_loss: 0.2999 - val_mae: 0.3737\n",
      "Epoch 13/100\n",
      "413/413 [==============================] - 1s 2ms/step - loss: 0.3105 - mae: 0.3839 - val_loss: 0.3174 - val_mae: 0.3957\n",
      "Epoch 14/100\n",
      "413/413 [==============================] - 1s 2ms/step - loss: 0.2975 - mae: 0.3781 - val_loss: 0.2990 - val_mae: 0.3784\n",
      "Epoch 15/100\n",
      "413/413 [==============================] - 1s 2ms/step - loss: 0.2970 - mae: 0.3773 - val_loss: 0.2972 - val_mae: 0.3756\n",
      "Epoch 16/100\n",
      "413/413 [==============================] - 1s 2ms/step - loss: 0.3134 - mae: 0.3800 - val_loss: 0.2954 - val_mae: 0.3729\n",
      "Epoch 17/100\n",
      "413/413 [==============================] - 1s 2ms/step - loss: 0.2936 - mae: 0.3755 - val_loss: 0.3012 - val_mae: 0.3664\n",
      "Epoch 18/100\n",
      "413/413 [==============================] - 1s 2ms/step - loss: 0.2892 - mae: 0.3730 - val_loss: 0.2883 - val_mae: 0.3689\n",
      "Epoch 19/100\n",
      "413/413 [==============================] - 1s 2ms/step - loss: 0.2892 - mae: 0.3712 - val_loss: 0.2947 - val_mae: 0.3640\n",
      "Epoch 20/100\n",
      "413/413 [==============================] - 1s 2ms/step - loss: 0.2898 - mae: 0.3702 - val_loss: 0.3042 - val_mae: 0.3747\n",
      "Epoch 21/100\n",
      "413/413 [==============================] - 1s 2ms/step - loss: 0.2903 - mae: 0.3708 - val_loss: 0.3007 - val_mae: 0.3767\n",
      "Epoch 22/100\n",
      "413/413 [==============================] - 1s 2ms/step - loss: 0.2862 - mae: 0.3690 - val_loss: 0.2868 - val_mae: 0.3664\n",
      "Epoch 23/100\n",
      "413/413 [==============================] - 1s 2ms/step - loss: 0.2804 - mae: 0.3654 - val_loss: 0.2917 - val_mae: 0.3684\n",
      "Epoch 24/100\n",
      "413/413 [==============================] - 1s 2ms/step - loss: 0.2847 - mae: 0.3673 - val_loss: 0.2852 - val_mae: 0.3640\n",
      "Epoch 25/100\n",
      "413/413 [==============================] - 1s 2ms/step - loss: 0.2807 - mae: 0.3654 - val_loss: 0.2885 - val_mae: 0.3631\n",
      "Epoch 26/100\n",
      "413/413 [==============================] - 1s 2ms/step - loss: 0.2803 - mae: 0.3650 - val_loss: 0.2886 - val_mae: 0.3606\n",
      "Epoch 27/100\n",
      "413/413 [==============================] - 1s 2ms/step - loss: 0.2842 - mae: 0.3656 - val_loss: 0.2880 - val_mae: 0.3603\n",
      "Epoch 28/100\n",
      "413/413 [==============================] - 1s 2ms/step - loss: 0.2799 - mae: 0.3650 - val_loss: 0.2913 - val_mae: 0.3660\n",
      "Epoch 29/100\n",
      "413/413 [==============================] - 1s 2ms/step - loss: 0.2746 - mae: 0.3604 - val_loss: 0.2865 - val_mae: 0.3697\n",
      "Epoch 30/100\n",
      "413/413 [==============================] - 1s 2ms/step - loss: 0.2787 - mae: 0.3619 - val_loss: 0.2898 - val_mae: 0.3659\n",
      "Epoch 31/100\n",
      "413/413 [==============================] - 1s 2ms/step - loss: 0.2767 - mae: 0.3602 - val_loss: 0.2807 - val_mae: 0.3577\n",
      "Epoch 32/100\n",
      "413/413 [==============================] - 1s 2ms/step - loss: 0.2718 - mae: 0.3581 - val_loss: 0.2828 - val_mae: 0.3721\n",
      "Epoch 33/100\n",
      "413/413 [==============================] - 1s 2ms/step - loss: 0.2766 - mae: 0.3604 - val_loss: 0.2887 - val_mae: 0.3786\n",
      "Epoch 34/100\n",
      "413/413 [==============================] - 1s 2ms/step - loss: 0.2713 - mae: 0.3579 - val_loss: 0.2871 - val_mae: 0.3649\n",
      "Epoch 35/100\n",
      "413/413 [==============================] - 1s 2ms/step - loss: 0.2697 - mae: 0.3574 - val_loss: 0.2785 - val_mae: 0.3563\n",
      "Epoch 36/100\n",
      "413/413 [==============================] - 1s 2ms/step - loss: 0.2677 - mae: 0.3559 - val_loss: 0.2845 - val_mae: 0.3711\n",
      "Epoch 37/100\n",
      "413/413 [==============================] - 1s 2ms/step - loss: 0.2728 - mae: 0.3575 - val_loss: 0.2827 - val_mae: 0.3560\n",
      "Epoch 38/100\n",
      "413/413 [==============================] - 1s 2ms/step - loss: 0.2955 - mae: 0.3593 - val_loss: 0.2763 - val_mae: 0.3558\n",
      "Epoch 39/100\n",
      "413/413 [==============================] - 1s 2ms/step - loss: 0.2718 - mae: 0.3543 - val_loss: 0.2727 - val_mae: 0.3503\n",
      "Epoch 40/100\n",
      "413/413 [==============================] - 1s 2ms/step - loss: 0.2643 - mae: 0.3534 - val_loss: 0.2807 - val_mae: 0.3616\n",
      "Epoch 41/100\n",
      "413/413 [==============================] - 1s 2ms/step - loss: 0.2638 - mae: 0.3522 - val_loss: 0.2805 - val_mae: 0.3556\n",
      "Epoch 42/100\n",
      "413/413 [==============================] - 1s 2ms/step - loss: 0.2646 - mae: 0.3530 - val_loss: 0.2698 - val_mae: 0.3487\n",
      "Epoch 43/100\n",
      "413/413 [==============================] - 1s 2ms/step - loss: 0.2660 - mae: 0.3542 - val_loss: 0.2744 - val_mae: 0.3552\n",
      "Epoch 44/100\n",
      "413/413 [==============================] - 1s 2ms/step - loss: 0.2632 - mae: 0.3531 - val_loss: 0.2789 - val_mae: 0.3599\n",
      "Epoch 45/100\n",
      "413/413 [==============================] - 1s 2ms/step - loss: 0.2623 - mae: 0.3520 - val_loss: 0.2708 - val_mae: 0.3487\n",
      "Epoch 46/100\n",
      "413/413 [==============================] - 1s 2ms/step - loss: 0.2623 - mae: 0.3506 - val_loss: 0.2793 - val_mae: 0.3539\n",
      "Epoch 47/100\n",
      "413/413 [==============================] - 1s 2ms/step - loss: 0.2626 - mae: 0.3510 - val_loss: 0.2767 - val_mae: 0.3613\n",
      "Epoch 48/100\n",
      "413/413 [==============================] - 1s 2ms/step - loss: 0.2605 - mae: 0.3496 - val_loss: 0.2718 - val_mae: 0.3528\n",
      "Epoch 49/100\n",
      "413/413 [==============================] - 1s 2ms/step - loss: 0.2597 - mae: 0.3490 - val_loss: 0.2743 - val_mae: 0.3541\n",
      "Epoch 50/100\n",
      "413/413 [==============================] - 1s 2ms/step - loss: 0.2599 - mae: 0.3503 - val_loss: 0.2791 - val_mae: 0.3675\n",
      "Epoch 51/100\n",
      "413/413 [==============================] - 1s 2ms/step - loss: 0.2604 - mae: 0.3500 - val_loss: 0.2697 - val_mae: 0.3528\n",
      "Epoch 52/100\n",
      "413/413 [==============================] - 1s 2ms/step - loss: 0.2597 - mae: 0.3502 - val_loss: 0.2812 - val_mae: 0.3616\n",
      "Epoch 53/100\n",
      "413/413 [==============================] - 1s 2ms/step - loss: 0.2562 - mae: 0.3474 - val_loss: 0.2667 - val_mae: 0.3479\n",
      "Epoch 54/100\n",
      "413/413 [==============================] - 1s 2ms/step - loss: 0.2601 - mae: 0.3490 - val_loss: 0.2787 - val_mae: 0.3606\n",
      "Epoch 55/100\n",
      "413/413 [==============================] - 1s 2ms/step - loss: 0.2590 - mae: 0.3475 - val_loss: 0.2728 - val_mae: 0.3562\n",
      "Epoch 56/100\n",
      "413/413 [==============================] - 1s 2ms/step - loss: 0.2549 - mae: 0.3464 - val_loss: 0.2698 - val_mae: 0.3514\n",
      "Epoch 57/100\n",
      "413/413 [==============================] - 1s 2ms/step - loss: 0.2600 - mae: 0.3477 - val_loss: 0.2739 - val_mae: 0.3538\n",
      "Epoch 58/100\n",
      "413/413 [==============================] - 1s 2ms/step - loss: 0.2569 - mae: 0.3471 - val_loss: 0.2783 - val_mae: 0.3664\n",
      "Epoch 59/100\n",
      "413/413 [==============================] - 1s 2ms/step - loss: 0.2544 - mae: 0.3457 - val_loss: 0.2744 - val_mae: 0.3571\n",
      "Epoch 60/100\n",
      "413/413 [==============================] - 1s 2ms/step - loss: 0.2545 - mae: 0.3454 - val_loss: 0.2667 - val_mae: 0.3500\n",
      "Epoch 61/100\n",
      "413/413 [==============================] - 1s 2ms/step - loss: 0.2523 - mae: 0.3432 - val_loss: 0.2677 - val_mae: 0.3520\n",
      "Epoch 62/100\n",
      "413/413 [==============================] - 1s 2ms/step - loss: 0.2510 - mae: 0.3426 - val_loss: 0.2710 - val_mae: 0.3485\n",
      "Epoch 63/100\n",
      "413/413 [==============================] - 1s 2ms/step - loss: 0.2505 - mae: 0.3421 - val_loss: 0.2888 - val_mae: 0.3664\n",
      "Epoch 64/100\n",
      "413/413 [==============================] - 1s 2ms/step - loss: 0.2530 - mae: 0.3436 - val_loss: 0.2661 - val_mae: 0.3452\n",
      "Epoch 65/100\n",
      "413/413 [==============================] - 1s 2ms/step - loss: 0.2500 - mae: 0.3427 - val_loss: 0.2696 - val_mae: 0.3429\n",
      "Epoch 66/100\n",
      "413/413 [==============================] - 1s 2ms/step - loss: 0.2497 - mae: 0.3409 - val_loss: 0.2678 - val_mae: 0.3523\n",
      "Epoch 67/100\n",
      "413/413 [==============================] - 1s 2ms/step - loss: 0.2489 - mae: 0.3416 - val_loss: 0.2716 - val_mae: 0.3483\n",
      "Epoch 68/100\n",
      "413/413 [==============================] - 1s 2ms/step - loss: 0.2485 - mae: 0.3413 - val_loss: 0.2692 - val_mae: 0.3544\n",
      "Epoch 69/100\n",
      "413/413 [==============================] - 1s 2ms/step - loss: 0.2547 - mae: 0.3408 - val_loss: 0.2739 - val_mae: 0.3463\n",
      "Epoch 70/100\n",
      "413/413 [==============================] - 1s 2ms/step - loss: 0.2487 - mae: 0.3396 - val_loss: 0.2740 - val_mae: 0.3472\n",
      "Epoch 71/100\n",
      "413/413 [==============================] - 1s 2ms/step - loss: 0.2444 - mae: 0.3383 - val_loss: 0.2652 - val_mae: 0.3475\n",
      "Epoch 72/100\n",
      "413/413 [==============================] - 1s 2ms/step - loss: 0.2453 - mae: 0.3386 - val_loss: 0.2644 - val_mae: 0.3454\n",
      "Epoch 73/100\n",
      "413/413 [==============================] - 1s 2ms/step - loss: 0.2433 - mae: 0.3373 - val_loss: 0.2711 - val_mae: 0.3492\n",
      "Epoch 74/100\n",
      "413/413 [==============================] - 1s 2ms/step - loss: 0.2433 - mae: 0.3369 - val_loss: 0.2696 - val_mae: 0.3493\n",
      "Epoch 75/100\n",
      "413/413 [==============================] - 1s 2ms/step - loss: 0.2420 - mae: 0.3368 - val_loss: 0.2628 - val_mae: 0.3442\n",
      "Epoch 76/100\n",
      "413/413 [==============================] - 1s 2ms/step - loss: 0.2429 - mae: 0.3368 - val_loss: 0.2657 - val_mae: 0.3449\n",
      "Epoch 77/100\n",
      "413/413 [==============================] - 1s 2ms/step - loss: 0.2424 - mae: 0.3362 - val_loss: 0.2684 - val_mae: 0.3472\n",
      "Epoch 78/100\n",
      "413/413 [==============================] - 1s 2ms/step - loss: 0.2423 - mae: 0.3359 - val_loss: 0.2678 - val_mae: 0.3415\n",
      "Epoch 79/100\n",
      "413/413 [==============================] - 1s 2ms/step - loss: 0.2411 - mae: 0.3358 - val_loss: 0.2712 - val_mae: 0.3514\n",
      "Epoch 80/100\n",
      "413/413 [==============================] - 1s 2ms/step - loss: 0.2424 - mae: 0.3358 - val_loss: 0.2689 - val_mae: 0.3508\n",
      "Epoch 81/100\n",
      "413/413 [==============================] - 1s 2ms/step - loss: 0.2400 - mae: 0.3351 - val_loss: 0.2723 - val_mae: 0.3546\n",
      "Epoch 82/100\n",
      "413/413 [==============================] - 1s 2ms/step - loss: 0.2401 - mae: 0.3353 - val_loss: 0.2704 - val_mae: 0.3504\n",
      "Epoch 83/100\n",
      "413/413 [==============================] - 1s 2ms/step - loss: 0.2399 - mae: 0.3344 - val_loss: 0.3008 - val_mae: 0.3874\n",
      "Epoch 84/100\n",
      "413/413 [==============================] - 1s 2ms/step - loss: 0.2399 - mae: 0.3363 - val_loss: 0.2655 - val_mae: 0.3460\n",
      "Epoch 85/100\n",
      "413/413 [==============================] - 1s 2ms/step - loss: 0.2384 - mae: 0.3342 - val_loss: 0.2614 - val_mae: 0.3413\n",
      "Epoch 86/100\n",
      "413/413 [==============================] - 1s 2ms/step - loss: 0.2380 - mae: 0.3339 - val_loss: 0.2725 - val_mae: 0.3494\n",
      "Epoch 87/100\n",
      "413/413 [==============================] - 1s 2ms/step - loss: 0.2372 - mae: 0.3330 - val_loss: 0.2593 - val_mae: 0.3426\n",
      "Epoch 88/100\n",
      "413/413 [==============================] - 1s 2ms/step - loss: 0.2401 - mae: 0.3332 - val_loss: 0.2651 - val_mae: 0.3509\n",
      "Epoch 89/100\n",
      "413/413 [==============================] - 1s 2ms/step - loss: 0.2354 - mae: 0.3310 - val_loss: 0.2645 - val_mae: 0.3480\n",
      "Epoch 90/100\n",
      "413/413 [==============================] - 1s 2ms/step - loss: 0.2354 - mae: 0.3321 - val_loss: 0.2668 - val_mae: 0.3397\n",
      "Epoch 91/100\n",
      "413/413 [==============================] - 1s 2ms/step - loss: 0.2344 - mae: 0.3296 - val_loss: 0.2666 - val_mae: 0.3502\n",
      "Epoch 92/100\n",
      "413/413 [==============================] - 1s 2ms/step - loss: 0.2343 - mae: 0.3317 - val_loss: 0.2727 - val_mae: 0.3485\n",
      "Epoch 93/100\n",
      "413/413 [==============================] - 1s 2ms/step - loss: 0.2338 - mae: 0.3299 - val_loss: 0.2680 - val_mae: 0.3488\n",
      "Epoch 94/100\n",
      "413/413 [==============================] - 1s 2ms/step - loss: 0.2342 - mae: 0.3304 - val_loss: 0.2660 - val_mae: 0.3528\n",
      "Epoch 95/100\n",
      "413/413 [==============================] - 1s 2ms/step - loss: 0.2325 - mae: 0.3284 - val_loss: 0.2677 - val_mae: 0.3477\n",
      "Epoch 96/100\n",
      "413/413 [==============================] - 1s 2ms/step - loss: 0.2333 - mae: 0.3309 - val_loss: 0.2617 - val_mae: 0.3507\n",
      "Epoch 97/100\n",
      "413/413 [==============================] - 1s 2ms/step - loss: 0.2316 - mae: 0.3303 - val_loss: 0.2686 - val_mae: 0.3498\n",
      "Epoch 98/100\n",
      "413/413 [==============================] - 1s 2ms/step - loss: 0.2338 - mae: 0.3310 - val_loss: 0.2643 - val_mae: 0.3405\n",
      "Epoch 99/100\n",
      "413/413 [==============================] - 1s 2ms/step - loss: 0.2324 - mae: 0.3280 - val_loss: 0.2653 - val_mae: 0.3571\n",
      "Epoch 100/100\n",
      "413/413 [==============================] - 1s 2ms/step - loss: 0.2314 - mae: 0.3288 - val_loss: 0.2713 - val_mae: 0.3557\n"
     ]
    }
   ],
   "source": [
    "epochs = 100\n",
    "batch_size = 32\n",
    "history = model.fit(X_train_scaled, y_train, epochs=epochs, batch_size=batch_size, validation_split=0.2)"
   ]
  },
  {
   "cell_type": "code",
   "execution_count": 9,
   "metadata": {},
   "outputs": [
    {
     "name": "stdout",
     "output_type": "stream",
     "text": [
      "129/129 [==============================] - 0s 2ms/step - loss: 0.2674 - mae: 0.3477\n",
      "Mean Squared Error (MSE) on Test Data: 0.27\n",
      "Mean Absolute Error (MAE) on Test Data: 0.35\n",
      "1/1 [==============================] - 0s 96ms/step\n",
      "Predicted Price for sample 0: $1.17 | Actual Price: $1.20\n",
      "Predicted Price for sample 1: $3.12 | Actual Price: $2.59\n",
      "Predicted Price for sample 2: $1.45 | Actual Price: $2.13\n"
     ]
    }
   ],
   "source": [
    "mse, mae = model.evaluate(X_test_scaled, y_test)\n",
    "print(f'Mean Squared Error (MSE) on Test Data: {mse:.2f}')\n",
    "print(f'Mean Absolute Error (MAE) on Test Data: {mae:.2f}')\n",
    "sample_indices = [0, 1, 2]\n",
    "sample_data = X_test_scaled[sample_indices]\n",
    "predictions = model.predict(sample_data)\n",
    "\n",
    "for i, index in enumerate(sample_indices):\n",
    "    print(f'Predicted Price for sample {index}: ${predictions[i][0]:,.2f} | Actual Price: ${y_test[index]:,.2f}')\n"
   ]
  }
 ],
 "metadata": {
  "kernelspec": {
   "display_name": "myenv",
   "language": "python",
   "name": "python3"
  },
  "language_info": {
   "codemirror_mode": {
    "name": "ipython",
    "version": 3
   },
   "file_extension": ".py",
   "mimetype": "text/x-python",
   "name": "python",
   "nbconvert_exporter": "python",
   "pygments_lexer": "ipython3",
   "version": "3.11.5"
  }
 },
 "nbformat": 4,
 "nbformat_minor": 2
}
